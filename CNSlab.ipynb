{
 "cells": [
  {
   "cell_type": "code",
   "execution_count": 76,
   "metadata": {},
   "outputs": [],
   "source": [
    "from nltk.corpus import brown\n",
    "import regex as re\n",
    "import random\n",
    "from caesarcipher import CaesarCipher\n",
    "import tensorflow as tf"
   ]
  },
  {
   "cell_type": "code",
   "execution_count": 77,
   "metadata": {},
   "outputs": [
    {
     "data": {
      "text/plain": [
       "['adventure',\n",
       " 'belles_lettres',\n",
       " 'editorial',\n",
       " 'fiction',\n",
       " 'government',\n",
       " 'hobbies',\n",
       " 'humor',\n",
       " 'learned',\n",
       " 'lore',\n",
       " 'mystery',\n",
       " 'news',\n",
       " 'religion',\n",
       " 'reviews',\n",
       " 'romance',\n",
       " 'science_fiction']"
      ]
     },
     "execution_count": 77,
     "metadata": {},
     "output_type": "execute_result"
    }
   ],
   "source": [
    "brown.categories()"
   ]
  },
  {
   "cell_type": "code",
   "execution_count": 78,
   "metadata": {},
   "outputs": [],
   "source": [
    "sentences = brown.sents()"
   ]
  },
  {
   "cell_type": "code",
   "execution_count": 79,
   "metadata": {},
   "outputs": [
    {
     "data": {
      "text/plain": [
       "57340"
      ]
     },
     "execution_count": 79,
     "metadata": {},
     "output_type": "execute_result"
    }
   ],
   "source": [
    "len(sentences)"
   ]
  },
  {
   "cell_type": "code",
   "execution_count": 80,
   "metadata": {},
   "outputs": [
    {
     "name": "stdout",
     "output_type": "stream",
     "text": [
      "!\"#$%&'()*+,-./:;<=>?@[\\]^_`{|}~\n"
     ]
    }
   ],
   "source": [
    "import string\n",
    "remove = string.punctuation\n",
    "pattern = r\"[{}]\".format(remove) \n",
    "print(remove)"
   ]
  },
  {
   "cell_type": "code",
   "execution_count": 81,
   "metadata": {},
   "outputs": [],
   "source": [
    "sents_cleaned=[]\n",
    "for i in sentences:\n",
    "    temp=[]\n",
    "    for j in i:\n",
    "        j=re.sub(pattern,\"\", j)\n",
    "        if j!=\"\":\n",
    "            temp.append(j)\n",
    "    sents_cleaned.append(temp)"
   ]
  },
  {
   "cell_type": "code",
   "execution_count": 82,
   "metadata": {},
   "outputs": [],
   "source": [
    "X=[]\n",
    "for i in sents_cleaned:\n",
    "    str = ' '.join(i)\n",
    "    rand = random.randint(1,26)\n",
    "    cipher = CaesarCipher(str,offset=rand)\n",
    "    temp=[]\n",
    "    count={}\n",
    "    for i in range(1,27):\n",
    "        count[i]=0\n",
    "    encoded = cipher.encoded\n",
    "    encoded = encoded.lower()\n",
    "    for letter in encoded:\n",
    "        if letter.isalpha():\n",
    "            count[ord(letter)-97+1] = count.get(ord(letter)-97+1, 0) + 1 \n",
    "    temp.append(count)\n",
    "    temp.append(rand)\n",
    "    X.append(temp)"
   ]
  },
  {
   "cell_type": "code",
   "execution_count": 83,
   "metadata": {},
   "outputs": [
    {
     "data": {
      "text/plain": [
       "57340"
      ]
     },
     "execution_count": 83,
     "metadata": {},
     "output_type": "execute_result"
    }
   ],
   "source": [
    "len(X)"
   ]
  },
  {
   "cell_type": "code",
   "execution_count": 84,
   "metadata": {},
   "outputs": [],
   "source": [
    "import numpy as np\n",
    "temp = []\n",
    "train_list=[]\n",
    "for i in range(0,len(X)):\n",
    "    for key,value in X[i][0].items():\n",
    "        train_list.append(value)  \n",
    "    temp.append(X[i][1]-1)\n",
    "train_array = np.array(train_list) \n",
    "labels = np.array(temp)"
   ]
  },
  {
   "cell_type": "code",
   "execution_count": 85,
   "metadata": {},
   "outputs": [],
   "source": [
    "train_array = train_array/26"
   ]
  },
  {
   "cell_type": "code",
   "execution_count": 86,
   "metadata": {},
   "outputs": [
    {
     "data": {
      "text/plain": [
       "1490840"
      ]
     },
     "execution_count": 86,
     "metadata": {},
     "output_type": "execute_result"
    }
   ],
   "source": [
    "len(train_list)"
   ]
  },
  {
   "cell_type": "code",
   "execution_count": 87,
   "metadata": {},
   "outputs": [],
   "source": [
    "set = train_array.reshape(len(X),26)"
   ]
  },
  {
   "cell_type": "code",
   "execution_count": 88,
   "metadata": {},
   "outputs": [
    {
     "data": {
      "text/plain": [
       "57340"
      ]
     },
     "execution_count": 88,
     "metadata": {},
     "output_type": "execute_result"
    }
   ],
   "source": [
    "len(set)"
   ]
  },
  {
   "cell_type": "code",
   "execution_count": 89,
   "metadata": {},
   "outputs": [
    {
     "data": {
      "text/plain": [
       "(57340, 26)"
      ]
     },
     "execution_count": 89,
     "metadata": {},
     "output_type": "execute_result"
    }
   ],
   "source": [
    "set.shape"
   ]
  },
  {
   "cell_type": "code",
   "execution_count": 91,
   "metadata": {},
   "outputs": [
    {
     "data": {
      "text/plain": [
       "array([ 8,  4, 23, ...,  1, 11,  7])"
      ]
     },
     "execution_count": 91,
     "metadata": {},
     "output_type": "execute_result"
    }
   ],
   "source": [
    "labels"
   ]
  },
  {
   "cell_type": "code",
   "execution_count": 92,
   "metadata": {},
   "outputs": [
    {
     "data": {
      "text/plain": [
       "array([[ 8],\n",
       "       [ 4],\n",
       "       [23],\n",
       "       ...,\n",
       "       [ 1],\n",
       "       [11],\n",
       "       [ 7]])"
      ]
     },
     "execution_count": 92,
     "metadata": {},
     "output_type": "execute_result"
    }
   ],
   "source": [
    "labels.reshape(len(X),1)"
   ]
  },
  {
   "cell_type": "code",
   "execution_count": 68,
   "metadata": {},
   "outputs": [],
   "source": [
    "from sklearn.model_selection import train_test_split\n",
    "data_train, data_test, labels_train, labels_test = train_test_split(set, labels, test_size=0.20, random_state=42)"
   ]
  },
  {
   "cell_type": "code",
   "execution_count": 69,
   "metadata": {},
   "outputs": [
    {
     "data": {
      "text/plain": [
       "(45872, 26)"
      ]
     },
     "execution_count": 69,
     "metadata": {},
     "output_type": "execute_result"
    }
   ],
   "source": [
    "data_train.shape"
   ]
  },
  {
   "cell_type": "code",
   "execution_count": 70,
   "metadata": {},
   "outputs": [
    {
     "data": {
      "text/plain": [
       "11468"
      ]
     },
     "execution_count": 70,
     "metadata": {},
     "output_type": "execute_result"
    }
   ],
   "source": [
    "len(data_test)"
   ]
  },
  {
   "cell_type": "code",
   "execution_count": 71,
   "metadata": {},
   "outputs": [
    {
     "data": {
      "text/plain": [
       "45872"
      ]
     },
     "execution_count": 71,
     "metadata": {},
     "output_type": "execute_result"
    }
   ],
   "source": [
    "len(labels_train)"
   ]
  },
  {
   "cell_type": "code",
   "execution_count": 72,
   "metadata": {},
   "outputs": [
    {
     "data": {
      "text/plain": [
       "11468"
      ]
     },
     "execution_count": 72,
     "metadata": {},
     "output_type": "execute_result"
    }
   ],
   "source": [
    "len(labels_test)"
   ]
  },
  {
   "cell_type": "code",
   "execution_count": 73,
   "metadata": {},
   "outputs": [
    {
     "name": "stdout",
     "output_type": "stream",
     "text": [
      "(45872, 26)\n",
      "(45872,)\n",
      "[[0.03846154 0.03846154 0.         ... 0.         0.         0.        ]\n",
      " [0.07692308 0.19230769 0.23076923 ... 0.         0.         0.19230769]\n",
      " [0.         0.         0.11538462 ... 0.03846154 0.         0.11538462]\n",
      " ...\n",
      " [0.         0.         0.03846154 ... 0.         0.15384615 0.15384615]\n",
      " [0.23076923 0.03846154 0.         ... 0.03846154 0.         0.07692308]\n",
      " [0.15384615 0.03846154 0.26923077 ... 0.42307692 0.42307692 0.88461538]]\n",
      "[12 13 24 ... 16 21  5]\n"
     ]
    }
   ],
   "source": [
    "print(data_train.shape)\n",
    "print(labels_train.shape)\n",
    "\n",
    "print(data_train)\n",
    "print(labels_train)"
   ]
  },
  {
   "cell_type": "code",
   "execution_count": 101,
   "metadata": {},
   "outputs": [
    {
     "ename": "AttributeError",
     "evalue": "module 'tensorflow._api.v1.keras.losses' has no attribute 'SparseCategoricalCrossentropy'",
     "output_type": "error",
     "traceback": [
      "\u001b[1;31m---------------------------------------------------------------------------\u001b[0m",
      "\u001b[1;31mAttributeError\u001b[0m                            Traceback (most recent call last)",
      "\u001b[1;32m<ipython-input-101-7e5c8b4fad70>\u001b[0m in \u001b[0;36m<module>\u001b[1;34m()\u001b[0m\n\u001b[0;32m      4\u001b[0m     \u001b[0mtf\u001b[0m\u001b[1;33m.\u001b[0m\u001b[0mkeras\u001b[0m\u001b[1;33m.\u001b[0m\u001b[0mlayers\u001b[0m\u001b[1;33m.\u001b[0m\u001b[0mDense\u001b[0m\u001b[1;33m(\u001b[0m\u001b[1;36m26\u001b[0m\u001b[1;33m,\u001b[0m\u001b[0mactivation\u001b[0m\u001b[1;33m=\u001b[0m\u001b[1;34m'sigmoid'\u001b[0m\u001b[1;33m)\u001b[0m\u001b[1;33m\u001b[0m\u001b[0m\n\u001b[0;32m      5\u001b[0m ])\n\u001b[1;32m----> 6\u001b[1;33m model.compile(optimizer='adam',loss=tf.keras.losses.SparseCategoricalCrossentropy(\n\u001b[0m\u001b[0;32m      7\u001b[0m     from_logits=False, reduction=tf.keras.losses.Reduction.AUTO, name=\"sparse_categorical_crossentropy\"))\n",
      "\u001b[1;31mAttributeError\u001b[0m: module 'tensorflow._api.v1.keras.losses' has no attribute 'SparseCategoricalCrossentropy'"
     ]
    }
   ],
   "source": [
    "model = tf.keras.Sequential([\n",
    "    tf.keras.layers.Dense(1,input_shape=(26,)),\n",
    "    tf.keras.layers.Dense(26, activation='sigmoid'),\n",
    "    tf.keras.layers.Dense(26,activation='sigmoid')\n",
    "])\n",
    "model.compile(optimizer='adam',loss=tf.keras.losses.SparseCategoricalCrossentropy(\n",
    "    from_logits=False, reduction=tf.keras.losses.Reduction.AUTO, name=\"sparse_categorical_crossentropy\"))"
   ]
  },
  {
   "cell_type": "code",
   "execution_count": 95,
   "metadata": {},
   "outputs": [
    {
     "name": "stdout",
     "output_type": "stream",
     "text": [
      "Epoch 1/100\n",
      "45872/45872 [==============================] - 3s 57us/sample - loss: 2.6599 - acc: 0.0328\n",
      "Epoch 2/100\n",
      "45872/45872 [==============================] - 2s 51us/sample - loss: 2.6554 - acc: 0.0369\n",
      "Epoch 3/100\n",
      "45872/45872 [==============================] - 2s 48us/sample - loss: 2.6508 - acc: 0.0441\n",
      "Epoch 4/100\n",
      "45872/45872 [==============================] - 2s 46us/sample - loss: 2.6466 - acc: 0.0337\n",
      "Epoch 5/100\n",
      "45872/45872 [==============================] - 3s 55us/sample - loss: 2.6425 - acc: 0.0308\n",
      "Epoch 6/100\n",
      "45872/45872 [==============================] - 3s 62us/sample - loss: 2.6390 - acc: 0.0490\n",
      "Epoch 7/100\n",
      "45872/45872 [==============================] - 3s 58us/sample - loss: 2.6355 - acc: 0.0336\n",
      "Epoch 8/100\n",
      "45872/45872 [==============================] - 2s 49us/sample - loss: 2.6317 - acc: 0.0341\n",
      "Epoch 9/100\n",
      "45872/45872 [==============================] - 2s 50us/sample - loss: 2.6287 - acc: 0.0285\n",
      "Epoch 10/100\n",
      "45872/45872 [==============================] - 2s 48us/sample - loss: 2.6250 - acc: 0.0314\n",
      "Epoch 11/100\n",
      "45872/45872 [==============================] - 2s 51us/sample - loss: 2.6221 - acc: 0.0079\n",
      "Epoch 12/100\n",
      "45872/45872 [==============================] - 2s 53us/sample - loss: 2.6186 - acc: 0.0238\n",
      "Epoch 13/100\n",
      "45872/45872 [==============================] - 2s 46us/sample - loss: 2.6154 - acc: 0.0260\n",
      "Epoch 14/100\n",
      "45872/45872 [==============================] - 2s 51us/sample - loss: 2.6128 - acc: 0.0214\n",
      "Epoch 15/100\n",
      "45872/45872 [==============================] - 2s 51us/sample - loss: 2.6103 - acc: 0.0230\n",
      "Epoch 16/100\n",
      "45872/45872 [==============================] - 2s 50us/sample - loss: 2.6072 - acc: 0.0135\n",
      "Epoch 17/100\n",
      "45872/45872 [==============================] - 2s 45us/sample - loss: 2.6058 - acc: 0.0037\n",
      "Epoch 18/100\n",
      "45872/45872 [==============================] - 2s 52us/sample - loss: 2.6044 - acc: 0.0072\n",
      "Epoch 19/100\n",
      "45872/45872 [==============================] - 2s 52us/sample - loss: 2.6027 - acc: 0.0053\n",
      "Epoch 20/100\n",
      "45872/45872 [==============================] - 2s 52us/sample - loss: 2.6012 - acc: 6.9759e-04\n",
      "Epoch 21/100\n",
      "45872/45872 [==============================] - 2s 51us/sample - loss: 2.6002 - acc: 0.0051\n",
      "Epoch 22/100\n",
      "45872/45872 [==============================] - 2s 45us/sample - loss: 2.5994 - acc: 0.0148\n",
      "Epoch 23/100\n",
      "45872/45872 [==============================] - 2s 47us/sample - loss: 2.5986 - acc: 0.0080\n",
      "Epoch 24/100\n",
      "45872/45872 [==============================] - 2s 45us/sample - loss: 2.5974 - acc: 0.0181\n",
      "Epoch 25/100\n",
      "45872/45872 [==============================] - 2s 49us/sample - loss: 2.5969 - acc: 0.0205\n",
      "Epoch 26/100\n",
      "45872/45872 [==============================] - 2s 49us/sample - loss: 2.5964 - acc: 0.0183\n",
      "Epoch 27/100\n",
      "45872/45872 [==============================] - 2s 48us/sample - loss: 2.5956 - acc: 0.0157\n",
      "Epoch 28/100\n",
      "45872/45872 [==============================] - 2s 45us/sample - loss: 2.5953 - acc: 0.0160\n",
      "Epoch 29/100\n",
      "45872/45872 [==============================] - 2s 45us/sample - loss: 2.5945 - acc: 0.0250\n",
      "Epoch 30/100\n",
      "45872/45872 [==============================] - 2s 47us/sample - loss: 2.5942 - acc: 0.0194\n",
      "Epoch 31/100\n",
      "45872/45872 [==============================] - 2s 45us/sample - loss: 2.5933 - acc: 0.0287\n",
      "Epoch 32/100\n",
      "45872/45872 [==============================] - 2s 47us/sample - loss: 2.5935 - acc: 0.0222\n",
      "Epoch 33/100\n",
      "45872/45872 [==============================] - 2s 52us/sample - loss: 2.5930 - acc: 0.0296\n",
      "Epoch 34/100\n",
      "45872/45872 [==============================] - 2s 49us/sample - loss: 2.5924 - acc: 0.0255\n",
      "Epoch 35/100\n",
      "45872/45872 [==============================] - 2s 45us/sample - loss: 2.5922 - acc: 0.0343\n",
      "Epoch 36/100\n",
      "45872/45872 [==============================] - 2s 48us/sample - loss: 2.5922 - acc: 0.0194\n",
      "Epoch 37/100\n",
      "45872/45872 [==============================] - 2s 46us/sample - loss: 2.5919 - acc: 0.0375\n",
      "Epoch 38/100\n",
      "45872/45872 [==============================] - 2s 47us/sample - loss: 2.5914 - acc: 0.0272\n",
      "Epoch 39/100\n",
      "45872/45872 [==============================] - 3s 55us/sample - loss: 2.5913 - acc: 0.0275\n",
      "Epoch 40/100\n",
      "45872/45872 [==============================] - 3s 59us/sample - loss: 2.5911 - acc: 0.0256\n",
      "Epoch 41/100\n",
      "45872/45872 [==============================] - 3s 57us/sample - loss: 2.5911 - acc: 0.0267\n",
      "Epoch 42/100\n",
      "45872/45872 [==============================] - 2s 47us/sample - loss: 2.5913 - acc: 0.0315\n",
      "Epoch 43/100\n",
      "45872/45872 [==============================] - 2s 48us/sample - loss: 2.5909 - acc: 0.0303\n",
      "Epoch 44/100\n",
      "45872/45872 [==============================] - 2s 48us/sample - loss: 2.5908 - acc: 0.0323\n",
      "Epoch 45/100\n",
      "45872/45872 [==============================] - 2s 49us/sample - loss: 2.5906 - acc: 0.0404\n",
      "Epoch 46/100\n",
      "45872/45872 [==============================] - 2s 45us/sample - loss: 2.5904 - acc: 0.0269\n",
      "Epoch 47/100\n",
      "45872/45872 [==============================] - 3s 64us/sample - loss: 2.5905 - acc: 0.0323\n",
      "Epoch 48/100\n",
      "45872/45872 [==============================] - 3s 59us/sample - loss: 2.5906 - acc: 0.0337\n",
      "Epoch 49/100\n",
      "45872/45872 [==============================] - 2s 46us/sample - loss: 2.5902 - acc: 0.0406\n",
      "Epoch 50/100\n",
      "45872/45872 [==============================] - 3s 60us/sample - loss: 2.5902 - acc: 0.0288\n",
      "Epoch 51/100\n",
      "45872/45872 [==============================] - 2s 48us/sample - loss: 2.5899 - acc: 0.0359\n",
      "Epoch 52/100\n",
      "45872/45872 [==============================] - 3s 55us/sample - loss: 2.5902 - acc: 0.0411\n",
      "Epoch 53/100\n",
      "45872/45872 [==============================] - 3s 58us/sample - loss: 2.5903 - acc: 0.0291\n",
      "Epoch 54/100\n",
      "45872/45872 [==============================] - 2s 49us/sample - loss: 2.5901 - acc: 0.0347\n",
      "Epoch 55/100\n",
      "45872/45872 [==============================] - 3s 57us/sample - loss: 2.5903 - acc: 0.0375\n",
      "Epoch 56/100\n",
      "45872/45872 [==============================] - 2s 51us/sample - loss: 2.5896 - acc: 0.0387\n",
      "Epoch 57/100\n",
      "45872/45872 [==============================] - 2s 51us/sample - loss: 2.5896 - acc: 0.0326\n",
      "Epoch 58/100\n",
      "45872/45872 [==============================] - 2s 51us/sample - loss: 2.5897 - acc: 0.0312\n",
      "Epoch 59/100\n",
      "45872/45872 [==============================] - 3s 59us/sample - loss: 2.5899 - acc: 0.0384\n",
      "Epoch 60/100\n",
      "45872/45872 [==============================] - 3s 59us/sample - loss: 2.5897 - acc: 0.0368\n",
      "Epoch 61/100\n",
      "45872/45872 [==============================] - 3s 75us/sample - loss: 2.5900 - acc: 0.0351\n",
      "Epoch 62/100\n",
      "45872/45872 [==============================] - 2s 52us/sample - loss: 2.5895 - acc: 0.0386\n",
      "Epoch 63/100\n",
      "45872/45872 [==============================] - 3s 64us/sample - loss: 2.5898 - acc: 0.0329\n",
      "Epoch 64/100\n",
      "45872/45872 [==============================] - 2s 53us/sample - loss: 2.5894 - acc: 0.0278\n",
      "Epoch 65/100\n",
      "45872/45872 [==============================] - 4s 96us/sample - loss: 2.5896 - acc: 0.0330\n",
      "Epoch 66/100\n",
      "45872/45872 [==============================] - 3s 66us/sample - loss: 2.5896 - acc: 0.0323\n",
      "Epoch 67/100\n",
      "45872/45872 [==============================] - 3s 73us/sample - loss: 2.5896 - acc: 0.0333\n",
      "Epoch 68/100\n",
      "45872/45872 [==============================] - 3s 59us/sample - loss: 2.5897 - acc: 0.0442\n",
      "Epoch 69/100\n",
      "45872/45872 [==============================] - 3s 61us/sample - loss: 2.5892 - acc: 0.0339\n",
      "Epoch 70/100\n",
      "45872/45872 [==============================] - 3s 66us/sample - loss: 2.5892 - acc: 0.0281\n",
      "Epoch 71/100\n",
      "45872/45872 [==============================] - 3s 63us/sample - loss: 2.5892 - acc: 0.0355\n",
      "Epoch 72/100\n",
      "45872/45872 [==============================] - 3s 58us/sample - loss: 2.5898 - acc: 0.0425\n",
      "Epoch 73/100\n",
      "45872/45872 [==============================] - 3s 64us/sample - loss: 2.5891 - acc: 0.0382\n",
      "Epoch 74/100\n",
      "45872/45872 [==============================] - 3s 63us/sample - loss: 2.5889 - acc: 0.0382\n",
      "Epoch 75/100\n",
      "45872/45872 [==============================] - 4s 78us/sample - loss: 2.5895 - acc: 0.0332\n",
      "Epoch 76/100\n",
      "45872/45872 [==============================] - 5s 102us/sample - loss: 2.5892 - acc: 0.0369\n",
      "Epoch 77/100\n",
      "45872/45872 [==============================] - 4s 86us/sample - loss: 2.5895 - acc: 0.0378\n",
      "Epoch 78/100\n",
      "45872/45872 [==============================] - 5s 103us/sample - loss: 2.5889 - acc: 0.0341\n",
      "Epoch 79/100\n",
      "45872/45872 [==============================] - 5s 118us/sample - loss: 2.5892 - acc: 0.0378\n",
      "Epoch 80/100\n",
      "45872/45872 [==============================] - 6s 131us/sample - loss: 2.5893 - acc: 0.0367\n",
      "Epoch 81/100\n",
      "45872/45872 [==============================] - 5s 118us/sample - loss: 2.5889 - acc: 0.0361\n",
      "Epoch 82/100\n",
      "45872/45872 [==============================] - 7s 158us/sample - loss: 2.5889 - acc: 0.0407\n",
      "Epoch 83/100\n",
      "45872/45872 [==============================] - 4s 94us/sample - loss: 2.5889 - acc: 0.0376\n",
      "Epoch 84/100\n",
      "45872/45872 [==============================] - 4s 98us/sample - loss: 2.5893 - acc: 0.0339\n",
      "Epoch 85/100\n",
      "45872/45872 [==============================] - 4s 92us/sample - loss: 2.5890 - acc: 0.0414\n",
      "Epoch 86/100\n",
      "45872/45872 [==============================] - 3s 74us/sample - loss: 2.5891 - acc: 0.0397\n",
      "Epoch 87/100\n",
      "45872/45872 [==============================] - 4s 93us/sample - loss: 2.5890 - acc: 0.0367\n",
      "Epoch 88/100\n",
      "45872/45872 [==============================] - 4s 89us/sample - loss: 2.5888 - acc: 0.0386\n",
      "Epoch 89/100\n",
      "45872/45872 [==============================] - 5s 106us/sample - loss: 2.5887 - acc: 0.0354\n",
      "Epoch 90/100\n",
      "45872/45872 [==============================] - 4s 93us/sample - loss: 2.5887 - acc: 0.0290\n",
      "Epoch 91/100\n",
      "45872/45872 [==============================] - 3s 70us/sample - loss: 2.5889 - acc: 0.0425\n",
      "Epoch 92/100\n",
      "45872/45872 [==============================] - 4s 78us/sample - loss: 2.5890 - acc: 0.0413\n",
      "Epoch 93/100\n",
      "45872/45872 [==============================] - 4s 85us/sample - loss: 2.5890 - acc: 0.0380\n",
      "Epoch 94/100\n",
      "45872/45872 [==============================] - 4s 84us/sample - loss: 2.5889 - acc: 0.0375\n",
      "Epoch 95/100\n",
      "45872/45872 [==============================] - 4s 85us/sample - loss: 2.5887 - acc: 0.0419\n",
      "Epoch 96/100\n",
      "45872/45872 [==============================] - 4s 78us/sample - loss: 2.5890 - acc: 0.0378\n",
      "Epoch 97/100\n",
      "45872/45872 [==============================] - 4s 93us/sample - loss: 2.5886 - acc: 0.0367\n",
      "Epoch 98/100\n",
      "45872/45872 [==============================] - 4s 83us/sample - loss: 2.5891 - acc: 0.0379\n",
      "Epoch 99/100\n",
      "45872/45872 [==============================] - 4s 78us/sample - loss: 2.5886 - acc: 0.0378\n",
      "Epoch 100/100\n",
      "45872/45872 [==============================] - 4s 84us/sample - loss: 2.5886 - acc: 0.0427\n"
     ]
    },
    {
     "data": {
      "text/plain": [
       "<tensorflow.python.keras.callbacks.History at 0x278a5cbd5c0>"
      ]
     },
     "execution_count": 95,
     "metadata": {},
     "output_type": "execute_result"
    }
   ],
   "source": [
    "model.fit(data_train, labels_train, epochs=100)"
   ]
  },
  {
   "cell_type": "code",
   "execution_count": null,
   "metadata": {},
   "outputs": [],
   "source": []
  }
 ],
 "metadata": {
  "kernelspec": {
   "display_name": "Python 3",
   "language": "python",
   "name": "python3"
  },
  "language_info": {
   "codemirror_mode": {
    "name": "ipython",
    "version": 3
   },
   "file_extension": ".py",
   "mimetype": "text/x-python",
   "name": "python",
   "nbconvert_exporter": "python",
   "pygments_lexer": "ipython3",
   "version": "3.6.5"
  }
 },
 "nbformat": 4,
 "nbformat_minor": 2
}
